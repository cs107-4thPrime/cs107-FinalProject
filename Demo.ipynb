{
 "cells": [
  {
   "cell_type": "markdown",
   "id": "7a0961bf",
   "metadata": {},
   "source": [
    "# Demo for Forward Mode\n",
    "Suppose you want to get the jacobian of the following functions with variables $x_1 = 10$ and $x_2 = 2$\n",
    "1. $$f_1 = 1 + 20*x_1 $$\n",
    "2. $$f_2 = e^{x_1}$$\n",
    "3. $$f_3 = sin(x_1 * x_2) + x_1 / x_2 $$\n",
    "4. $$f_4 = ln(x_3) $$\n"
   ]
  },
  {
   "cell_type": "markdown",
   "id": "86815411",
   "metadata": {},
   "source": [
    "## Import modules"
   ]
  },
  {
   "cell_type": "code",
   "execution_count": 5,
   "id": "6f99591e",
   "metadata": {},
   "outputs": [],
   "source": [
    "import cs107_4thprime.Dual_class as dual\n",
    "import numpy as np"
   ]
  },
  {
   "cell_type": "markdown",
   "id": "3dad63cd",
   "metadata": {},
   "source": [
    "## Instantiate input variables\n",
    "Instantiate an input variable 'a' with variable name 'x1' and value of 10. This returns a Dual class object. "
   ]
  },
  {
   "cell_type": "code",
   "execution_count": 6,
   "id": "21484518",
   "metadata": {},
   "outputs": [],
   "source": [
    "a = dual.createVariable('x1', 10)"
   ]
  },
  {
   "cell_type": "markdown",
   "id": "3e038e48",
   "metadata": {},
   "source": [
    "Similarly, you can create multiple inputs by differentiating them with variable names. \n",
    "\n",
    "Note: we use variable name to identify the difference between each variable. So if you meant to have different inputs, please assign them different variable names\n"
   ]
  },
  {
   "cell_type": "code",
   "execution_count": 7,
   "id": "f3f22c97",
   "metadata": {},
   "outputs": [],
   "source": [
    "b = dual.createVariable('x2', 2) "
   ]
  },
  {
   "cell_type": "markdown",
   "id": "110f728e",
   "metadata": {},
   "source": [
    "You can also create a variable with a vector input by simply passing in a numpy array"
   ]
  },
  {
   "cell_type": "code",
   "execution_count": 8,
   "id": "05534e6c",
   "metadata": {},
   "outputs": [],
   "source": [
    "c = dual.createVariable('x3',np.array([1,2,3]))"
   ]
  },
  {
   "cell_type": "markdown",
   "id": "38cbc692",
   "metadata": {},
   "source": [
    "## Define your functions & Get current value and Jacobian\n",
    "Define your function with the initiated variables. All the returned functions are Dual number as well.\n",
    "\n",
    "Note: Except for the overloading operators, all the elementary functions are stored in module src.Derivatives (elem). "
   ]
  },
  {
   "cell_type": "markdown",
   "id": "b269cb92",
   "metadata": {},
   "source": [
    "Function 1 - $$f_1 = 1 + 20*x_1 $$"
   ]
  },
  {
   "cell_type": "code",
   "execution_count": 9,
   "id": "32229a13",
   "metadata": {},
   "outputs": [
    {
     "name": "stdout",
     "output_type": "stream",
     "text": [
      "Partial derivative w.r.t x1: 20\n",
      "Current value of f1: 201\n",
      "Data Type of Function: <class 'cs107_4thprime.Dual_class.Dual'>\n"
     ]
    }
   ],
   "source": [
    "# Function with a single line\n",
    "f1 = 1 + 20 * a \n",
    "print('Partial derivative w.r.t x1:',f1.partial('x1'))\n",
    "print('Current value of f1:',f1.getvalue())\n",
    "print('Data Type of Function:',type(f1))"
   ]
  },
  {
   "cell_type": "markdown",
   "id": "df2afa5f",
   "metadata": {},
   "source": [
    "Function 2 -  $$f_2 = e^{x_1} $$"
   ]
  },
  {
   "cell_type": "code",
   "execution_count": 10,
   "id": "eebe0acd",
   "metadata": {},
   "outputs": [
    {
     "name": "stdout",
     "output_type": "stream",
     "text": [
      "Partial derivative w.r.t x1: 22026.465794806718\n",
      "Current value of f2: 22026.465794806718\n"
     ]
    }
   ],
   "source": [
    "# Create a function with multiple lines\n",
    "f2 = dual.exp(a) \n",
    "print('Partial derivative w.r.t x1:',f2.partial('x1'))\n",
    "print('Current value of f2:',f2.getvalue())"
   ]
  },
  {
   "cell_type": "markdown",
   "id": "62c93319",
   "metadata": {},
   "source": [
    "Function 3 -  $$f_3 = sin(x_1 * x_2) + x_1 / x_2 $$\n"
   ]
  },
  {
   "cell_type": "code",
   "execution_count": 11,
   "id": "3b3893d4",
   "metadata": {},
   "outputs": [
    {
     "name": "stdout",
     "output_type": "stream",
     "text": [
      "Partial derivative w.r.t x1: 1.316164123626784\n",
      "Partial derivative w.r.t x2: 1.5808206181339193\n",
      "Current value of f3: 5.912945250727628\n"
     ]
    }
   ],
   "source": [
    "f3 = dual.sin(a*b) + a/b\n",
    "print('Partial derivative w.r.t x1:',f3.partial('x1'))\n",
    "print('Partial derivative w.r.t x2:',f3.partial('x2'))\n",
    "print('Current value of f3:',f3.getvalue())"
   ]
  },
  {
   "cell_type": "markdown",
   "id": "1ab1fc00",
   "metadata": {},
   "source": [
    "Function 4 - \n",
    "$$f_4 = ln(x_3)$$\n"
   ]
  },
  {
   "cell_type": "code",
   "execution_count": 12,
   "id": "ca2c5133",
   "metadata": {},
   "outputs": [
    {
     "name": "stdout",
     "output_type": "stream",
     "text": [
      "Partial derivative w.r.t x3: [1.         0.5        0.33333333]\n",
      "Current value of f4: [0.         0.69314718 1.09861229]\n"
     ]
    }
   ],
   "source": [
    "import math\n",
    "\n",
    "f4 = dual.ln(c) \n",
    "print('Partial derivative w.r.t x3:',f4.partial('x3'))\n",
    "print('Current value of f4:',f4.getvalue())"
   ]
  },
  {
   "cell_type": "markdown",
   "id": "624eee27",
   "metadata": {},
   "source": [
    "## Vector Functions\n",
    "We can use the vectorize_ders from the Dual.py to handle vector functions with real scalar. "
   ]
  },
  {
   "cell_type": "code",
   "execution_count": 13,
   "id": "21605a9e",
   "metadata": {},
   "outputs": [
    {
     "data": {
      "text/plain": [
       "(['x1', 'x2'],\n",
       " array([[2.00000000e+01, 0.00000000e+00],\n",
       "        [2.20264658e+04, 0.00000000e+00],\n",
       "        [1.31616412e+00, 1.58082062e+00]]))"
      ]
     },
     "execution_count": 13,
     "metadata": {},
     "output_type": "execute_result"
    }
   ],
   "source": [
    "import numpy as np\n",
    "dual.vectorize_ders(np.array([f1,f2,f3]))"
   ]
  },
  {
   "cell_type": "markdown",
   "id": "d7a33b26",
   "metadata": {},
   "source": [
    "We can also use the vectorize_ders to handle vector functions with vector inputs. "
   ]
  },
  {
   "cell_type": "code",
   "execution_count": 14,
   "id": "fa145400",
   "metadata": {},
   "outputs": [
    {
     "data": {
      "text/plain": [
       "(['x3'],\n",
       " array([[[1.        , 0.5       , 0.33333333]],\n",
       " \n",
       "        [[1.        , 0.5       , 0.33333333]]]))"
      ]
     },
     "execution_count": 14,
     "metadata": {},
     "output_type": "execute_result"
    }
   ],
   "source": [
    "dual.vectorize_ders(np.array([f4,f4]))"
   ]
  },
  {
   "cell_type": "markdown",
   "id": "6d58c760",
   "metadata": {},
   "source": [
    "## Print all information of a function"
   ]
  },
  {
   "cell_type": "markdown",
   "id": "1ecb545b",
   "metadata": {},
   "source": [
    "The overloading operator __str__() can also return the current Dual class info.\n",
    "\n",
    "We have tested our results in the precision to 5 decimal places"
   ]
  },
  {
   "cell_type": "code",
   "execution_count": 15,
   "id": "2969ff79",
   "metadata": {},
   "outputs": [
    {
     "name": "stdout",
     "output_type": "stream",
     "text": [
      "Current Value is : 5.912945250727628\n",
      "Partial Derivative with respect to each variable:\n",
      "variable (x1): 1.316164123626784\n",
      "variable (x2): 1.5808206181339193\n",
      "\n"
     ]
    }
   ],
   "source": [
    "print(f3)"
   ]
  }
 ],
 "metadata": {
  "kernelspec": {
   "display_name": "Python 3 (ipykernel)",
   "language": "python",
   "name": "python3"
  },
  "language_info": {
   "codemirror_mode": {
    "name": "ipython",
    "version": 3
   },
   "file_extension": ".py",
   "mimetype": "text/x-python",
   "name": "python",
   "nbconvert_exporter": "python",
   "pygments_lexer": "ipython3",
   "version": "3.9.7"
  },
  "toc": {
   "base_numbering": 1,
   "nav_menu": {},
   "number_sections": true,
   "sideBar": true,
   "skip_h1_title": false,
   "title_cell": "Table of Contents",
   "title_sidebar": "Contents",
   "toc_cell": false,
   "toc_position": {},
   "toc_section_display": true,
   "toc_window_display": false
  }
 },
 "nbformat": 4,
 "nbformat_minor": 5
}
