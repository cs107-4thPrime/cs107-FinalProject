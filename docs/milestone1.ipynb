{
 "cells": [
  {
   "cell_type": "markdown",
   "id": "53962d2e",
   "metadata": {},
   "source": [
    "# Milestone1\n",
    "\n",
    "\n",
    "## Introduction\n",
    "\n",
    "The ability to compute rates is fundamental to nearly all areas of scientific understanding ranging from basic science to machine learning. In order to gain insights into the inner workings of a system, we must be able to understand how that system changes over time, and how different perturbations affect those changes. Oftentimes we can model the phenomena underlying a system through equations, such as those that describe temperature, motion, and force, to name a few. However, many real-world phenomena are too complex to be reduced to simple mathematical equations. Not only are these equations complex, but it can be very onerous to compute their derivatives by hand, which is necessary for a number of different applications (described below). While numerical differentiation techniques like the method of finite differences offers an alternative to symbolic differentiation for functions whose derviative cannot be computed analytically, the discretization of the problem introduces round-off errors that can accumulate to give an ultimate answer that is not accurate enough for the scientific applications at hand. Our software provides a streamlined, automated computational tool to quickly calculate the derivatives of functions by composing elementary mathematical operations. Automatic differentiation avoids the expression swell of symbolic differentiation and the imprecision of numerical differentiation. The overarching motivation of automatic differentiation is to compute the rate of change for a function of arbitrary complexity through the use of point values and elementary derivatives. AD allows us to get a numerical value of a function's derivative without approximation error.\n",
    "\n",
    "The equations that describe these sorts of situations are often complex and messy to work with, but there are a number of ways we can gain insight from them. If we want to understand not just the current state of a system but also how it changes over time, we need to take the derivative of these complex equations.  Moreover, oftentimes it is useful to model the local behavior of a system within an extremely small window. In such instances, we may find it helpful to use a derivative . Lastly, if we want to identify extreme cases, we will need to take a derivative to identify extrema or inflection points. Our automatic differentiation package allows us to accomplish all of this to the accuracy of machine precision. \n",
    "\n",
    "\n",
    "## Background\n",
    "\n",
    "\n",
    "**Automatic differentiation** is a series of processes automated by a computer program to calculate the derivative of a given function. \n",
    "\n",
    "A function consists of **elementary functions**, which are the building blocks of more complex functions. They are functions of a single variable (real or complex). Examples of such functions involve taking sums, products, polynomial, exponential, inverse. \n",
    "\n",
    "The decomposition of derivatives is enabled by the **chain rule**. \n",
    "For a given function $h(u(t), v(t))$:\n",
    "\n",
    "$\\frac{dh}{dt}$=($\\frac{\\partial h}{\\partial u}$)($\\frac{du}{dt}$)+($\\frac{\\partial h}{\\partial v}$)($\\frac{dv}{dt}$)\n",
    "\n",
    "AD has two modes: the forward mode and the reverse mode. In this project milestone 1, we will apply **chain rule** in forward mode from inside to outside. The corresponding **graph structure of the forward mode** first calculates forward primal trace, forward tangent trace and passes of the independent variables. Then, it computes those of the dependent variables. \n",
    "\n",
    "The function can be accomplished using **Dual Number**. **Dual Number** is similar to **Complex Number** ($z=x + iy$ where x is the real part and y is the imaginary part. $i^{2}=-1$). Dual Number can be expressed in the form of $z=a+b*epilson$ where a,b are real numbers, $epilson^{2}=0$ and $epilson!=0$. In the context of automatic differentiation, the real part of the dual number corresponds to the primal trace whereas the dual part corresponds to the tangent trace. \n",
    "\n",
    "We need to apply **operator overloading** on the Dual Class. **Operator overloading** is the act of changing the behavior of an operator on its arguments. Depending on the exact argument the operator acts on, the operator may implement differently. Therefore, operator overloading is a form of polymorphism. \n",
    "\n",
    "When we have multiple variables, we can express the partial derivatives in the form of **Jacobian**. For a function $f(x)$ : $R^{m}$ -> $R^{n}$, the **Jacobian** is a n*m matrix consisted of the first derivatives of the mapping. \n",
    "\n",
    "**Newton’s method** belongs to a class of algorithms which can be solved using AD. Newton’s method is a root-finding algorithm of a non-linear function f(x) to satisfy f(x)=0. An initial guess is taken first, then Newton’s method runs iteratively to find the root of the function. Convergence depends on good initial guesses and is not guaranteed. "
   ]
  },
  {
   "cell_type": "markdown",
   "id": "c376c75c",
   "metadata": {},
   "source": [
    "### Graph structure of calculations\n",
    "For the forward mode, the graph structure of the auto differentiation first calculates forward primal trace, forward tangent trace and passes of the independent variables. Then, it computes those of the dependent variables. \n",
    "For the reverse mode, the graph structure works backward from the outputs to the inputs. Since the last node has no children, the initial value of the adjoint of the last node will be 1. Then the second to last node’s adjoint is evaluated iteratively until reaching the adjoint of the last node in reverse order.\n",
    "\n",
    "### Elementary functions \n",
    "Elementary functions are the building blocks of more complex functions. They are functions of a single variable (real or complex). Examples of such functions involve taking sums, products, polynomial, exponential, inverse. \n",
    "\n",
    "\n",
    "\n",
    "## How to Use PackageName\n",
    "\n",
    "We will have a Dual class in DualNum.py and multiple elementary functions in Derivatives.py. \n",
    "\n",
    "### Dual Class "
   ]
  },
  {
   "cell_type": "code",
   "execution_count": null,
   "id": "e96c99d5",
   "metadata": {},
   "outputs": [],
   "source": [
    "class Dual:\n",
    "    def __init__(self,value, ders):\n",
    "    # value (real number): the current value of the function\n",
    "    # ders (dict): {'variable name': 'partial derivative with respect to the variable'} \n",
    "        self.value = value \n",
    "        self.ders = ders\n",
    "\n",
    "    def __add__(self, other) -> Dual: \n",
    "    # Return a new Dual number as an intermediate variable with the updated value \n",
    "    # and partial derivatives using chain rule. Other overloading operators would work \n",
    "    # similarly that they all return a new Dual number. \n",
    "    # An example of the implementation below: \n",
    "        if isinstance(other, Dual):\n",
    "            new_ders = defaultdict(float)\n",
    "            for k,v in self.ders.items():\n",
    "                new_ders[k]+=v\n",
    "            for k,v in other.ders.items():\n",
    "                new_ders[k]+=v\n",
    "            return Dual(self.value+other.value,new_ders)\n",
    "        else:\n",
    "            return Dual(self.value+other,self.ders)"
   ]
  },
  {
   "cell_type": "markdown",
   "id": "beaa174f",
   "metadata": {},
   "source": [
    "### Elementary Functions\n",
    "\n",
    "Example of function sqrt"
   ]
  },
  {
   "cell_type": "code",
   "execution_count": null,
   "id": "8a2e08eb",
   "metadata": {},
   "outputs": [],
   "source": [
    "def sqrt(a: Dual) -> Dual: \n",
    "    # Can be implemented with __pow__ as well but sqrt is used frequently \n",
    "    # so we decided to keep it as a separate function\n",
    "    value =  math.sqrt(a.value)\n",
    "    ders = updated a.ders dictionary after the square root operation.\n",
    "    return Dual(value, ders)\n"
   ]
  },
  {
   "cell_type": "markdown",
   "id": "9aeaa460",
   "metadata": {},
   "source": [
    "### Demo"
   ]
  },
  {
   "cell_type": "code",
   "execution_count": null,
   "id": "d8076cb5",
   "metadata": {},
   "outputs": [],
   "source": [
    "# Take the derivative of function y=x1*3+ln(x2)*x3 with x1=2, x2=4, x3=1\n",
    "\n",
    "# Import Dual Class from Classes.DualNum.py\n",
    "from Classes.DualNum import Dual \n",
    "# Import all the elementary functions from Derivatives.py\n",
    "from Derivatives import *\n",
    "\n",
    "# First is to initialize variables (x1, x2, x3) with values and derivatives as a Dual. We expect the derivatives to be 1 for all the variables. \n",
    "x1 = Dual(2,{x1:1}) \n",
    "x2 = Dual(4,{x2:1})\n",
    "x3 = Dual(1,{x3:1})\n",
    "\n",
    "# Second is to implement a function with the initialized variables. The returned value (f)  is itself a Dual as well. \n",
    "f = x1 * 3 + ln(x2)*x3 \n",
    "\n",
    "# Get the partial derivative of function with respect to variable x1 \n",
    "partial_x1 =  f.partial(x1) # return a single real number\n",
    "print(\"The derivative of f with respect to x1:\",partial_x1)\n",
    "\n",
    "# Get all the gradients of the function \n",
    "gradient =  f.gradient() # return a dictionary with key being variable name and value being the respective partial derivative\n",
    "print(\"The gradients of f:\",gradient)\n"
   ]
  },
  {
   "cell_type": "markdown",
   "id": "ba96513b",
   "metadata": {},
   "source": [
    "### Software Organization"
   ]
  },
  {
   "cell_type": "markdown",
   "id": "267c9dc8",
   "metadata": {},
   "source": [
    "![](img/software_org.png)"
   ]
  },
  {
   "cell_type": "markdown",
   "id": "af5583a7",
   "metadata": {},
   "source": [
    "What modules do you plan on including? What is their basic functionality?\n",
    "- We plan on including the DualNum.py for the Dual number data structure and Derivatives.py for the additional elementary functions which can be implemented on the Dual number. The Dual class in DualNum.py includes an initialization function, a string function, representation function, partial function, gradient function, and multiple overloading operators. Elementary functions that are not included in the Dual class such as exponent, natural log and square root are written in the Derivatives.py.\n",
    "\n",
    "\n",
    "Where will your test suite live? Will you use TravisCI? CodeCov?\n",
    "- Option 1: We will test our code with CodeCov which gives insight into code coverage \n",
    "- Option 2: We will use TravisCI, a continuous integration service where we can build and test our open-source software project on GitHub for free. \n",
    "\n",
    "\n",
    "How will you distribute your package (e.g. PyPI)?\n",
    "- Our package will be distributed through PyPI\n",
    "\n",
    "\n",
    "How will you package your software? Will you use a framework? If so, which one and why? If not, why not?\n",
    "- We will package our software using a framework named Kivy which is free to use under MIT license . It can let us create cross-platform apps that work on desktop computers, iOS devices, and Android devices which gives us a lot of flexibility in choosing where we can deploy our software. There is also a complete tutorial regarding the whole process including learning the design language that supports an easy and scalable GUI. \n",
    "\n"
   ]
  },
  {
   "cell_type": "markdown",
   "id": "530a8ce0",
   "metadata": {},
   "source": [
    "## Implementation\n",
    "\n",
    "What are the core data structures?\n",
    "- Dual Numbers will be the core data structure\n",
    "\n",
    "What classes will you implement?\n",
    "- We will need a Dual Numbers class.\n",
    "\n",
    "What method and name attributes will your classes have?\n",
    "- Dual Numbers class\n",
    "    - Name: Dual\n",
    "    - Attributes\n",
    "        - self\n",
    "        - value (real number): the current value of the function\n",
    "        - ders (dict): {'variable name': 'partial derivative with respect to the variable'} \n",
    "        \n",
    "    - Method\n",
    "        - def partial(self, variable_name): -> float: #return the corresponding partial derivative with respect to the given variable_name (e.g. self.ders[variable_name])\n",
    "        - def gradient(self): -> dict:  # return the self.ders, the dictionary that contains the current partial derivative   with respect to each variable \n",
    "        - def getvalue(self): -> float: # return the current value \n",
    "        - def __str__(self): -> str: # return a string that shows the current value, and gradient\n",
    "        - def __repr__(self): -> str:  # return the type which is class, and the class name which is Dual\n",
    "        - Other overloading operators: Assuming 'a' represents a dual number and 'arg' represents a random argument\n",
    "            - 1. __add__(arg): a + arg # Sum Rule\n",
    "            - 2. __radd__(arg): arg + a # Sum Rule\n",
    "            - 3. __mul__(arg): a * arg # Product Rule & Multiplication by constant\n",
    "            - 4. __rmul__(arg): arg * a\n",
    "            - 5. __sub__(arg): a-arg # Difference rule\n",
    "            - 6. __rsub__(arg): arg-a # Difference rule\n",
    "            - 7. __div__(arg): a/arg # Quotient Rule & Reciprocal Rule\n",
    "            - 8. __rdiv__(arg): arg/a # Quotient Rule & Reciprocal Rule\n",
    "            - 9. __truediv__(arg): a/arg  # Quotient Rule & Reciprocal Rule\n",
    "            - 10. __rtruediv__(arg): arg/a # Quotient Rule & Reciprocal Rule\n",
    "            - 11. __pow__(arg): a**arg  # Power rule\n",
    "            - 12. __neg__(arg): -a # Multiplication by constant\n",
    "\t\n",
    "What external dependencies will you rely on? \n",
    "- We will use the Math Module to implement our elementary functions.\n",
    "\n",
    "How will you deal with elementary functions like sin, sqrt, log, and exp (and all the others)? \n",
    "- We will write in the Derivatives.py elementary functions that each takes a Dual number as input and return another Dual number. Below are the functions we plan to include: \n",
    "\n",
    "    - 1. ln(a: Dual) -> Dual: # Natural log of Dual number a, using math.log(x)\n",
    "    - 2. log(a: Dual, base: int) -> Dual: # Log of Dual number a with base n, using math.log(x, base)\n",
    "    - 3. exp(a: Dual) -> Dual: # Exponential of the dual number a, using math.exp(x)\n",
    "    - 4. sin(a: Dual) -> Dual: # sine of the dual number a, using math.sin(x) and math.cos(x)\n",
    "    - 5. cos(a: Dual) -> Dual: # cosine of the dual number a, using math.sin(x) and math.cos(x)\n",
    "    - 6. tan(a: Dual) -> Dual: # tangent of the dual number a, using math.tan(x) and math.cos(x)\n",
    "    - 7. asin(a: Dual) -> Dual: # inverse of sine or arcsine of the dual number a, using math.asin(x) \n",
    "    - 8. acos(a: Dual) -> Dual: # inverse of cosine of the dual number a, using math.acos(x)     \n",
    "    - 9. atan(a: Dual) -> Dual: # inverse of tangent of the dual number a, using math.atan(x)  \n",
    "    - 10. sqrt(a: Dual) -> Dual: # square root of a dual number\n"
   ]
  },
  {
   "cell_type": "markdown",
   "id": "ed27993c",
   "metadata": {},
   "source": [
    "## Licensing\n",
    "\n",
    "We would like to use the MIT license because automatic differentiation has been implemented by many people already, and the math python package we will be using is also a standard python package. Therefore, we are happy to make our code open source and free to use for people who are also interested in automatic differentiation.  \n",
    "\n",
    "[The link to MIT's licensing website](https://opensource.org/licenses/MIT)\n"
   ]
  },
  {
   "cell_type": "markdown",
   "id": "b3005376",
   "metadata": {},
   "source": [
    "## Feedback\n",
    "\n",
    "Introduction (1.75/2): Your introduction should motivate the need for automatic differentiation (AD). What methods can we use to calculate derivatives numerically? What are the strengths/weaknesses of each of these methods, and how does AD address these problems?\n",
    "\n",
    "Background (1.5/2): It feels as though the background is just a collection of things that have been stitched together without much thought. How do each of these topics fit together in the context of AD?\n",
    "\n",
    "Example usage (3/3): Very thorough!\n",
    "\n",
    "Software organization (2/2)\n",
    "\n",
    "Implementation (4/4): The math module is fine; you might also consider numpy for better performance.\n",
    "\n",
    "Licensing (2/2)\n",
    "\n",
    "One last comment: going forward, you should always work on a feature branch."
   ]
  }
 ],
 "metadata": {
  "kernelspec": {
   "display_name": "Python 3",
   "language": "python",
   "name": "python3"
  },
  "language_info": {
   "codemirror_mode": {
    "name": "ipython",
    "version": 3
   },
   "file_extension": ".py",
   "mimetype": "text/x-python",
   "name": "python",
   "nbconvert_exporter": "python",
   "pygments_lexer": "ipython3",
   "version": "3.8.8"
  }
 },
 "nbformat": 4,
 "nbformat_minor": 5
}
