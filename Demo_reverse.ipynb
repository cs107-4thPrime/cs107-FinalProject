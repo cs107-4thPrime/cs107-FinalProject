{
 "cells": [
  {
   "cell_type": "markdown",
   "id": "86815411",
   "metadata": {},
   "source": [
    "## Import modules"
   ]
  },
  {
   "cell_type": "code",
   "execution_count": 26,
   "id": "6f99591e",
   "metadata": {},
   "outputs": [],
   "source": [
    "from src.Reverse import Variable, Constant, Node\n",
    "from src.Reverse_deriv import *"
   ]
  },
  {
   "cell_type": "markdown",
   "id": "3dad63cd",
   "metadata": {},
   "source": [
    "## Instantiate input variables\n",
    "Instantiate the variable class. "
   ]
  },
  {
   "cell_type": "code",
   "execution_count": 27,
   "id": "21484518",
   "metadata": {},
   "outputs": [],
   "source": [
    "x1 = Variable('x1',-3) "
   ]
  },
  {
   "cell_type": "markdown",
   "id": "3e038e48",
   "metadata": {},
   "source": [
    "Instantiate the constant class."
   ]
  },
  {
   "cell_type": "code",
   "execution_count": 28,
   "id": "f3f22c97",
   "metadata": {},
   "outputs": [],
   "source": [
    "c1 = Constant(4)"
   ]
  },
  {
   "cell_type": "markdown",
   "id": "5abd13b9",
   "metadata": {},
   "source": [
    "Now, put the x1 and c1 into the Node class by calling the function power(x1,c1): $c1^{x1}$"
   ]
  },
  {
   "cell_type": "code",
   "execution_count": 29,
   "id": "4594c745",
   "metadata": {},
   "outputs": [
    {
     "name": "stdout",
     "output_type": "stream",
     "text": [
      "power: <class 'src.Reverse.Constant'>\n"
     ]
    }
   ],
   "source": [
    "f1 = power(x1,c1)"
   ]
  },
  {
   "cell_type": "markdown",
   "id": "d51d7df3",
   "metadata": {},
   "source": [
    "Not instantiating the operator's function with variable class or constant class will raise an error."
   ]
  },
  {
   "cell_type": "code",
   "execution_count": 30,
   "id": "067eb2c3",
   "metadata": {},
   "outputs": [
    {
     "name": "stdout",
     "output_type": "stream",
     "text": [
      "power: <class 'int'>\n"
     ]
    },
    {
     "ename": "AttributeError",
     "evalue": "'int' object has no attribute 'value'",
     "output_type": "error",
     "traceback": [
      "\u001b[0;31m---------------------------------------------------------------------------\u001b[0m",
      "\u001b[0;31mAttributeError\u001b[0m                            Traceback (most recent call last)",
      "\u001b[0;32m<ipython-input-30-5a1a949cf0a3>\u001b[0m in \u001b[0;36m<module>\u001b[0;34m\u001b[0m\n\u001b[0;32m----> 1\u001b[0;31m \u001b[0mpower\u001b[0m\u001b[0;34m(\u001b[0m\u001b[0mx1\u001b[0m\u001b[0;34m,\u001b[0m \u001b[0;36m4\u001b[0m\u001b[0;34m)\u001b[0m\u001b[0;34m\u001b[0m\u001b[0;34m\u001b[0m\u001b[0m\n\u001b[0m",
      "\u001b[0;32m~/Documents/AC207/project/cs107-FinalProject/src/Reverse_deriv.py\u001b[0m in \u001b[0;36mpower\u001b[0;34m(node, p)\u001b[0m\n\u001b[1;32m     41\u001b[0m     \u001b[0;34m\"\"\"power (dual number) of base p (Constant), using math.power(x, y)\"\"\"\u001b[0m\u001b[0;34m\u001b[0m\u001b[0;34m\u001b[0m\u001b[0m\n\u001b[1;32m     42\u001b[0m     \u001b[0mprint\u001b[0m\u001b[0;34m(\u001b[0m\u001b[0;34m\"power:\"\u001b[0m\u001b[0;34m,\u001b[0m\u001b[0mtype\u001b[0m\u001b[0;34m(\u001b[0m\u001b[0mp\u001b[0m\u001b[0;34m)\u001b[0m\u001b[0;34m)\u001b[0m\u001b[0;34m\u001b[0m\u001b[0;34m\u001b[0m\u001b[0m\n\u001b[0;32m---> 43\u001b[0;31m     \u001b[0;32mreturn\u001b[0m \u001b[0mNode\u001b[0m\u001b[0;34m(\u001b[0m\u001b[0mnode\u001b[0m\u001b[0;34m,\u001b[0m \u001b[0mp\u001b[0m\u001b[0;34m,\u001b[0m \u001b[0mp\u001b[0m\u001b[0;34m.\u001b[0m\u001b[0mvalue\u001b[0m\u001b[0;34m**\u001b[0m\u001b[0;34m(\u001b[0m\u001b[0mnode\u001b[0m\u001b[0;34m.\u001b[0m\u001b[0mvalue\u001b[0m\u001b[0;34m)\u001b[0m\u001b[0;34m,\u001b[0m \u001b[0;34m'power'\u001b[0m \u001b[0;34m)\u001b[0m\u001b[0;34m\u001b[0m\u001b[0;34m\u001b[0m\u001b[0m\n\u001b[0m\u001b[1;32m     44\u001b[0m \u001b[0;34m\u001b[0m\u001b[0m\n\u001b[1;32m     45\u001b[0m \u001b[0;34m\u001b[0m\u001b[0m\n",
      "\u001b[0;31mAttributeError\u001b[0m: 'int' object has no attribute 'value'"
     ]
    }
   ],
   "source": [
    "power(x1, 4)"
   ]
  },
  {
   "cell_type": "markdown",
   "id": "a37ec4de",
   "metadata": {},
   "source": [
    "We can check the current value by getvalue( ) function."
   ]
  },
  {
   "cell_type": "code",
   "execution_count": 31,
   "id": "1ad2f9a5",
   "metadata": {},
   "outputs": [
    {
     "data": {
      "text/plain": [
       "0.015625"
      ]
     },
     "execution_count": 31,
     "metadata": {},
     "output_type": "execute_result"
    }
   ],
   "source": [
    "f1.getvalue()"
   ]
  },
  {
   "cell_type": "markdown",
   "id": "bed2e2aa",
   "metadata": {},
   "source": [
    "We can check the partial derivative by partial( ) function."
   ]
  },
  {
   "cell_type": "code",
   "execution_count": 32,
   "id": "b9dcf34b",
   "metadata": {},
   "outputs": [
    {
     "data": {
      "text/plain": [
       "0.02166084939249829"
      ]
     },
     "execution_count": 32,
     "metadata": {},
     "output_type": "execute_result"
    }
   ],
   "source": [
    "f1.partial(x1)"
   ]
  },
  {
   "cell_type": "code",
   "execution_count": 33,
   "id": "bb056d8b",
   "metadata": {},
   "outputs": [],
   "source": [
    "x2 = Variable ('x2', 2)"
   ]
  },
  {
   "cell_type": "code",
   "execution_count": 34,
   "id": "ff3dbb38",
   "metadata": {},
   "outputs": [],
   "source": [
    "x3 = Variable ('x3', 4)"
   ]
  },
  {
   "cell_type": "markdown",
   "id": "ecc20a62",
   "metadata": {},
   "source": [
    "Calling the \"+\" operator."
   ]
  },
  {
   "cell_type": "code",
   "execution_count": 35,
   "id": "da23714c",
   "metadata": {},
   "outputs": [],
   "source": [
    "f2 = x2+x3"
   ]
  },
  {
   "cell_type": "markdown",
   "id": "052a78cc",
   "metadata": {},
   "source": [
    "Calling the \"*\" operator."
   ]
  },
  {
   "cell_type": "code",
   "execution_count": 36,
   "id": "96b63d17",
   "metadata": {},
   "outputs": [
    {
     "name": "stdout",
     "output_type": "stream",
     "text": [
      "0.015625\n"
     ]
    }
   ],
   "source": [
    "f3 = f1*f2"
   ]
  },
  {
   "cell_type": "markdown",
   "id": "4ca2aec0",
   "metadata": {},
   "source": [
    "getvalue( ) function."
   ]
  },
  {
   "cell_type": "code",
   "execution_count": 39,
   "id": "d5f739d8",
   "metadata": {},
   "outputs": [
    {
     "data": {
      "text/plain": [
       "0.12996509635498973"
      ]
     },
     "execution_count": 39,
     "metadata": {},
     "output_type": "execute_result"
    }
   ],
   "source": [
    "f3.partial(x1)"
   ]
  },
  {
   "cell_type": "code",
   "execution_count": 40,
   "id": "80b0b4c8",
   "metadata": {},
   "outputs": [
    {
     "data": {
      "text/plain": [
       "0.015625"
      ]
     },
     "execution_count": 40,
     "metadata": {},
     "output_type": "execute_result"
    }
   ],
   "source": [
    "f3.partial(x2)"
   ]
  },
  {
   "cell_type": "code",
   "execution_count": 41,
   "id": "e9f14a97",
   "metadata": {},
   "outputs": [
    {
     "data": {
      "text/plain": [
       "0.015625"
      ]
     },
     "execution_count": 41,
     "metadata": {},
     "output_type": "execute_result"
    }
   ],
   "source": [
    "f3.partial(x3)"
   ]
  },
  {
   "cell_type": "code",
   "execution_count": 42,
   "id": "b836de8a",
   "metadata": {},
   "outputs": [
    {
     "name": "stdout",
     "output_type": "stream",
     "text": [
      " - *\n",
      "  - power\n",
      "   - x1=-3\n",
      "   - Constant=4\n",
      "  - +\n",
      "   - x2=2\n",
      "   - x3=4\n",
      "\n"
     ]
    }
   ],
   "source": [
    "# Get the tree structure of the reverse mode's tree\n",
    "print(f3)"
   ]
  }
 ],
 "metadata": {
  "kernelspec": {
   "display_name": "Python 3",
   "language": "python",
   "name": "python3"
  },
  "language_info": {
   "codemirror_mode": {
    "name": "ipython",
    "version": 3
   },
   "file_extension": ".py",
   "mimetype": "text/x-python",
   "name": "python",
   "nbconvert_exporter": "python",
   "pygments_lexer": "ipython3",
   "version": "3.8.8"
  },
  "toc": {
   "base_numbering": 1,
   "nav_menu": {},
   "number_sections": true,
   "sideBar": true,
   "skip_h1_title": false,
   "title_cell": "Table of Contents",
   "title_sidebar": "Contents",
   "toc_cell": false,
   "toc_position": {},
   "toc_section_display": true,
   "toc_window_display": false
  }
 },
 "nbformat": 4,
 "nbformat_minor": 5
}
