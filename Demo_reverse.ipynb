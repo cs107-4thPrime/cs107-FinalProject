{
 "cells": [
  {
   "cell_type": "markdown",
   "id": "86815411",
   "metadata": {},
   "source": [
    "# Demo for Reverse Mode\n",
    "## Import modules"
   ]
  },
  {
   "cell_type": "code",
   "execution_count": 13,
   "id": "6f99591e",
   "metadata": {},
   "outputs": [],
   "source": [
    "import cs107_4thprime.Reverse as reverse\n",
    "import numpy as np"
   ]
  },
  {
   "cell_type": "markdown",
   "id": "3dad63cd",
   "metadata": {},
   "source": [
    "## Instantiate input variables\n",
    "To create a variable, we simply instantiate the Variable Class by passing in the variable name and the value. It is different from how we would instantiate the variable in forward mode with createVariable function in Dual class. \n",
    "Our reverse mode can also take a vector input"
   ]
  },
  {
   "cell_type": "code",
   "execution_count": 14,
   "id": "21484518",
   "metadata": {},
   "outputs": [],
   "source": [
    "x1 = reverse.Variable('x1', -3) \n",
    "x2 = reverse.Variable(\"x2\", 10)\n",
    "x3 = reverse.Variable('x3',np.array([-3,10]))"
   ]
  },
  {
   "cell_type": "markdown",
   "id": "3e038e48",
   "metadata": {},
   "source": [
    "In reverse mode, we have to initialize all constants (float, integer or vector) with a Constant class. This is different from forward mode modules, where we can simply add an integer, float, or a vector to a Dual class. "
   ]
  },
  {
   "cell_type": "code",
   "execution_count": 15,
   "id": "f3f22c97",
   "metadata": {},
   "outputs": [],
   "source": [
    "c1 = reverse.Constant(4)\n",
    "c2 = reverse.Constant(np.array([4,4]))"
   ]
  },
  {
   "cell_type": "markdown",
   "id": "f5a582f9",
   "metadata": {},
   "source": [
    "## Build Functions"
   ]
  },
  {
   "cell_type": "markdown",
   "id": "5abd13b9",
   "metadata": {},
   "source": [
    "$$f_1= c_1^{x_1}$$\n",
    "$$f_2= x_1+x_2*c_1$$\n",
    "$$f_3= x_3+c_2$$"
   ]
  },
  {
   "cell_type": "code",
   "execution_count": 16,
   "id": "4594c745",
   "metadata": {},
   "outputs": [],
   "source": [
    "f1 = reverse.power(x1,c1)\n",
    "f2 = x1+x2*c1\n",
    "f3 = x3*c2"
   ]
  },
  {
   "cell_type": "markdown",
   "id": "d51d7df3",
   "metadata": {},
   "source": [
    "Not instantiating the operator's function with variable class or constant class will raise an error."
   ]
  },
  {
   "cell_type": "code",
   "execution_count": 17,
   "id": "067eb2c3",
   "metadata": {},
   "outputs": [
    {
     "ename": "AttributeError",
     "evalue": "'int' object has no attribute 'value'",
     "output_type": "error",
     "traceback": [
      "\u001b[0;31m---------------------------------------------------------------------------\u001b[0m",
      "\u001b[0;31mAttributeError\u001b[0m                            Traceback (most recent call last)",
      "\u001b[0;32m/var/folders/tj/jpbxkjnn04l8yxh2fczgnhpr0000gn/T/ipykernel_22005/1981510485.py\u001b[0m in \u001b[0;36m<module>\u001b[0;34m\u001b[0m\n\u001b[0;32m----> 1\u001b[0;31m \u001b[0mreverse\u001b[0m\u001b[0;34m.\u001b[0m\u001b[0mpower\u001b[0m\u001b[0;34m(\u001b[0m\u001b[0mx1\u001b[0m\u001b[0;34m,\u001b[0m\u001b[0;36m4\u001b[0m \u001b[0;34m)\u001b[0m\u001b[0;34m\u001b[0m\u001b[0;34m\u001b[0m\u001b[0m\n\u001b[0m",
      "\u001b[0;32m~/opt/anaconda3/lib/python3.9/site-packages/cs107_4thprime/Reverse.py\u001b[0m in \u001b[0;36mpower\u001b[0;34m(node, p)\u001b[0m\n\u001b[1;32m    368\u001b[0m \u001b[0;32mdef\u001b[0m \u001b[0mpower\u001b[0m\u001b[0;34m(\u001b[0m\u001b[0mnode\u001b[0m\u001b[0;34m,\u001b[0m \u001b[0mp\u001b[0m\u001b[0;34m)\u001b[0m \u001b[0;34m->\u001b[0m \u001b[0mNode\u001b[0m\u001b[0;34m:\u001b[0m\u001b[0;34m\u001b[0m\u001b[0;34m\u001b[0m\u001b[0m\n\u001b[1;32m    369\u001b[0m     \u001b[0;34m\"\"\"power (node) of base p (Constant), using np.power(x, y)\"\"\"\u001b[0m\u001b[0;34m\u001b[0m\u001b[0;34m\u001b[0m\u001b[0m\n\u001b[0;32m--> 370\u001b[0;31m     \u001b[0;32mreturn\u001b[0m \u001b[0mNode\u001b[0m\u001b[0;34m(\u001b[0m\u001b[0mnode\u001b[0m\u001b[0;34m,\u001b[0m \u001b[0mp\u001b[0m\u001b[0;34m,\u001b[0m \u001b[0mp\u001b[0m\u001b[0;34m.\u001b[0m\u001b[0mvalue\u001b[0m\u001b[0;34m**\u001b[0m\u001b[0;34m(\u001b[0m\u001b[0mnode\u001b[0m\u001b[0;34m.\u001b[0m\u001b[0mvalue\u001b[0m\u001b[0;34m)\u001b[0m\u001b[0;34m,\u001b[0m \u001b[0;34m'power'\u001b[0m \u001b[0;34m)\u001b[0m\u001b[0;34m\u001b[0m\u001b[0;34m\u001b[0m\u001b[0m\n\u001b[0m\u001b[1;32m    371\u001b[0m \u001b[0;34m\u001b[0m\u001b[0m\n\u001b[1;32m    372\u001b[0m \u001b[0;34m\u001b[0m\u001b[0m\n",
      "\u001b[0;31mAttributeError\u001b[0m: 'int' object has no attribute 'value'"
     ]
    }
   ],
   "source": [
    "reverse.power(x1,4 )"
   ]
  },
  {
   "cell_type": "markdown",
   "id": "a37ec4de",
   "metadata": {},
   "source": [
    "We can check the current value by getvalue( ) function."
   ]
  },
  {
   "cell_type": "code",
   "execution_count": 18,
   "id": "1ad2f9a5",
   "metadata": {},
   "outputs": [
    {
     "name": "stdout",
     "output_type": "stream",
     "text": [
      "f1 value: 0.015625\n",
      "f2 value: 37\n",
      "f3 value: [-12  40]\n"
     ]
    }
   ],
   "source": [
    "print('f1 value:',f1.getvalue())\n",
    "print('f2 value:',f2.getvalue())\n",
    "print('f3 value:',f3.getvalue())"
   ]
  },
  {
   "cell_type": "markdown",
   "id": "bed2e2aa",
   "metadata": {},
   "source": [
    "We can check the partial derivative by partial( ) function."
   ]
  },
  {
   "cell_type": "code",
   "execution_count": 19,
   "id": "b9dcf34b",
   "metadata": {},
   "outputs": [
    {
     "name": "stdout",
     "output_type": "stream",
     "text": [
      "f1 partial derivative wrt x1: 0.02166084939249829\n",
      "f2 partial derivative wrt x1: 1\n",
      "f2 partial derivative wrt x2: 4\n",
      "f3 partial derivative wrt x1: [4 4]\n"
     ]
    }
   ],
   "source": [
    "print('f1 partial derivative wrt x1:',f1.partial(x1))\n",
    "print('f2 partial derivative wrt x1:',f2.partial(x1))\n",
    "print('f2 partial derivative wrt x2:',f2.partial(x2))\n",
    "print('f3 partial derivative wrt x1:',f3.partial(x3))"
   ]
  },
  {
   "cell_type": "markdown",
   "id": "d45adb08",
   "metadata": {},
   "source": [
    "We can also print the preorder traversal of the tree for each function using __str__().\n",
    "The node with least indentation is the root of the tree. For the same level of indentation, the upper item is the child1 and the bottom one is the child2."
   ]
  },
  {
   "cell_type": "code",
   "execution_count": 20,
   "id": "01a482e9",
   "metadata": {},
   "outputs": [
    {
     "name": "stdout",
     "output_type": "stream",
     "text": [
      "f1 tree structure:\n",
      " - power\n",
      "  - x1=-3\n",
      "  - Constant=4\n",
      "\n"
     ]
    }
   ],
   "source": [
    "print(\"f1 tree structure:\")\n",
    "print(f1)"
   ]
  },
  {
   "cell_type": "code",
   "execution_count": 21,
   "id": "a7d40f0c",
   "metadata": {},
   "outputs": [
    {
     "name": "stdout",
     "output_type": "stream",
     "text": [
      "f2 tree structure:\n",
      " - +\n",
      "  - x1=-3\n",
      "  - *\n",
      "   - x2=10\n",
      "   - Constant=4\n",
      "\n"
     ]
    }
   ],
   "source": [
    "print(\"f2 tree structure:\")\n",
    "print(str(f2))"
   ]
  },
  {
   "cell_type": "code",
   "execution_count": 22,
   "id": "7cf557a7",
   "metadata": {},
   "outputs": [
    {
     "name": "stdout",
     "output_type": "stream",
     "text": [
      "f3 tree structure:\n",
      " - *\n",
      "  - x3=[-3 10]\n",
      "  - Constant=[4 4]\n",
      "\n"
     ]
    }
   ],
   "source": [
    "print(\"f3 tree structure:\")\n",
    "print(str(f3))"
   ]
  }
 ],
 "metadata": {
  "kernelspec": {
   "display_name": "Python 3 (ipykernel)",
   "language": "python",
   "name": "python3"
  },
  "language_info": {
   "codemirror_mode": {
    "name": "ipython",
    "version": 3
   },
   "file_extension": ".py",
   "mimetype": "text/x-python",
   "name": "python",
   "nbconvert_exporter": "python",
   "pygments_lexer": "ipython3",
   "version": "3.9.7"
  },
  "toc": {
   "base_numbering": 1,
   "nav_menu": {},
   "number_sections": true,
   "sideBar": true,
   "skip_h1_title": false,
   "title_cell": "Table of Contents",
   "title_sidebar": "Contents",
   "toc_cell": false,
   "toc_position": {},
   "toc_section_display": true,
   "toc_window_display": false
  }
 },
 "nbformat": 4,
 "nbformat_minor": 5
}
