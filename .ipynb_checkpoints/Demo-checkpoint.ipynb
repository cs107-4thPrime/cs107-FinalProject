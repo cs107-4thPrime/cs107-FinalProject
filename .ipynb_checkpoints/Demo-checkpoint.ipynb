{
 "cells": [
  {
   "cell_type": "markdown",
   "id": "7a0961bf",
   "metadata": {},
   "source": [
    "# Demo \n",
    "Suppose you want to get the jacobian of the following functions with variables $x_1 = 10$ and $x_2 = 2$\n",
    "1. $$f_1 = 7 - 200*x_1 $$\n",
    "2. $$f_2 = e^{5*x_1} * x_2 $$\n",
    "3. $$f_3 = sin(x_1 * x_2) + x_1 / x_2 $$\n",
    "\n"
   ]
  },
  {
   "cell_type": "markdown",
   "id": "86815411",
   "metadata": {},
   "source": [
    "## Import modules"
   ]
  },
  {
   "cell_type": "code",
   "execution_count": 1,
   "id": "6f99591e",
   "metadata": {},
   "outputs": [],
   "source": [
    "import src.Dual_class as dual\n",
    "import src.Derivatives as elem"
   ]
  },
  {
   "cell_type": "markdown",
   "id": "3dad63cd",
   "metadata": {},
   "source": [
    "## Instantiate input variables\n",
    "Instantiate an input variable 'a' with variable name 'x1' and value of 10. This returns a Dual class object. "
   ]
  },
  {
   "cell_type": "code",
   "execution_count": 2,
   "id": "21484518",
   "metadata": {},
   "outputs": [],
   "source": [
    "a = dual.createVariable('x1', 10)"
   ]
  },
  {
   "cell_type": "markdown",
   "id": "3e038e48",
   "metadata": {},
   "source": [
    "Similarly, you can create multiple inputs by differentiating them with variable names. \n",
    "\n",
    "Note: we use variable name to identify the difference between each variable. So if you meant to have different inputs, please assign them different variable names\n"
   ]
  },
  {
   "cell_type": "code",
   "execution_count": 3,
   "id": "f3f22c97",
   "metadata": {},
   "outputs": [],
   "source": [
    "b = dual.createVariable('x2', 2) "
   ]
  },
  {
   "cell_type": "markdown",
   "id": "5abd13b9",
   "metadata": {},
   "source": [
    "Each initiated variables is a Dual number. \n",
    "We can think of 'a' as a scalar function of x_1 with slope 1 ($a = 1*x_1$). Therefore, it will also have a Jacobian and the derivative with respect to itself is 1. \n",
    "\n",
    "- We can get the derivative with respect to a certain variable by passing the variable name into the partial() function which returns a float or int. \n",
    "- Or we can get all the derivatives stored in the Dual number with Dual's gradient() function which returns a dictionary."
   ]
  },
  {
   "cell_type": "code",
   "execution_count": 4,
   "id": "4594c745",
   "metadata": {},
   "outputs": [
    {
     "data": {
      "text/plain": [
       "{'x1': 1}"
      ]
     },
     "execution_count": 4,
     "metadata": {},
     "output_type": "execute_result"
    }
   ],
   "source": [
    "a.gradient()"
   ]
  },
  {
   "cell_type": "code",
   "execution_count": 5,
   "id": "f0172ea9",
   "metadata": {},
   "outputs": [
    {
     "data": {
      "text/plain": [
       "1"
      ]
     },
     "execution_count": 5,
     "metadata": {},
     "output_type": "execute_result"
    }
   ],
   "source": [
    "a.partial('x1')"
   ]
  },
  {
   "cell_type": "markdown",
   "id": "a37ec4de",
   "metadata": {},
   "source": [
    "We can check the current value by getvalue() function"
   ]
  },
  {
   "cell_type": "code",
   "execution_count": 6,
   "id": "1ad2f9a5",
   "metadata": {},
   "outputs": [
    {
     "data": {
      "text/plain": [
       "10"
      ]
     },
     "execution_count": 6,
     "metadata": {},
     "output_type": "execute_result"
    }
   ],
   "source": [
    "a.getvalue()"
   ]
  },
  {
   "cell_type": "markdown",
   "id": "38cbc692",
   "metadata": {},
   "source": [
    "## Define your functions\n",
    "Define your function with the initiated variables. All the returned functions are Dual number as well.\n",
    "\n",
    "Note: Except for the overloading operators, all the elementary functions are stored in module src.Derivatives (elem). "
   ]
  },
  {
   "cell_type": "markdown",
   "id": "b269cb92",
   "metadata": {},
   "source": [
    "Function 1 - $$f_1 = 7 - 200*x_1 $$"
   ]
  },
  {
   "cell_type": "code",
   "execution_count": 7,
   "id": "32229a13",
   "metadata": {},
   "outputs": [
    {
     "name": "stdout",
     "output_type": "stream",
     "text": [
      "Data Type of Function: <class 'src.Dual_class.Dual'>\n"
     ]
    }
   ],
   "source": [
    "# Function with a single line\n",
    "f1 = 7 - 200 * a \n",
    "print('Data Type of Function:',type(f1))"
   ]
  },
  {
   "cell_type": "markdown",
   "id": "df2afa5f",
   "metadata": {},
   "source": [
    "Function 2 -  $$f_2 = e^{5*x_1} * x_2 $$"
   ]
  },
  {
   "cell_type": "code",
   "execution_count": 8,
   "id": "eebe0acd",
   "metadata": {},
   "outputs": [],
   "source": [
    "# Create a function with multiple lines\n",
    "f2 = elem.exp(a) \n",
    "f2 = f2*b"
   ]
  },
  {
   "cell_type": "markdown",
   "id": "62c93319",
   "metadata": {},
   "source": [
    "Function 3 -  $$f_3 = sin(x_1 * x_2) + x_1 / x_2 $$\n",
    "\n",
    "Because sin() is an elementary function, we need to use elem.sin()"
   ]
  },
  {
   "cell_type": "code",
   "execution_count": 9,
   "id": "3b3893d4",
   "metadata": {},
   "outputs": [],
   "source": [
    "f3 = elem.sin(a*b) + a/b"
   ]
  },
  {
   "cell_type": "markdown",
   "id": "6d58c760",
   "metadata": {},
   "source": [
    "## Get the current value and Jacobian"
   ]
  },
  {
   "cell_type": "markdown",
   "id": "1ecb545b",
   "metadata": {},
   "source": [
    "Similar to how we get the value and derivatives of the instantiated variable, we use the same function getvalue(), partial() and gradient().\n",
    "The overloading operator __str__() can also return the current Dual class info.\n",
    "\n",
    "We have tested our results in the precision to 5 decimal places"
   ]
  },
  {
   "cell_type": "code",
   "execution_count": 10,
   "id": "bf692846",
   "metadata": {},
   "outputs": [
    {
     "data": {
      "text/plain": [
       "-1993"
      ]
     },
     "execution_count": 10,
     "metadata": {},
     "output_type": "execute_result"
    }
   ],
   "source": [
    "# The current value of f1\n",
    "f1.getvalue()"
   ]
  },
  {
   "cell_type": "code",
   "execution_count": 11,
   "id": "cf7afeb8",
   "metadata": {},
   "outputs": [
    {
     "data": {
      "text/plain": [
       "44052.931589613436"
      ]
     },
     "execution_count": 11,
     "metadata": {},
     "output_type": "execute_result"
    }
   ],
   "source": [
    "# The derivative of f2 with respect to variable x1\n",
    "f2.partial('x1')"
   ]
  },
  {
   "cell_type": "code",
   "execution_count": 12,
   "id": "f05e01b0",
   "metadata": {},
   "outputs": [
    {
     "data": {
      "text/plain": [
       "22026.465794806718"
      ]
     },
     "execution_count": 12,
     "metadata": {},
     "output_type": "execute_result"
    }
   ],
   "source": [
    "# The derivative of f2 with respect to variable x1\n",
    "f2.partial('x2')"
   ]
  },
  {
   "cell_type": "code",
   "execution_count": 13,
   "id": "293755a5",
   "metadata": {},
   "outputs": [
    {
     "data": {
      "text/plain": [
       "{'x1': 44052.931589613436, 'x2': 22026.465794806718}"
      ]
     },
     "execution_count": 13,
     "metadata": {},
     "output_type": "execute_result"
    }
   ],
   "source": [
    "# The Jacobian of f2. \n",
    "# dictionary: {variable_name: derivative of f3 wrt. variable}\n",
    "f2.gradient()"
   ]
  },
  {
   "cell_type": "code",
   "execution_count": 23,
   "id": "2969ff79",
   "metadata": {},
   "outputs": [
    {
     "name": "stdout",
     "output_type": "stream",
     "text": [
      "Current Value is : 44052.931589613436\n",
      "Partial Derivative with respect to each variable:\n",
      "variable (x1): 44052.931589613436\n",
      "variable (x2): 22026.465794806718\n",
      "\n"
     ]
    }
   ],
   "source": [
    "print(f2)"
   ]
  }
 ],
 "metadata": {
  "kernelspec": {
   "display_name": "Python 3",
   "language": "python",
   "name": "python3"
  },
  "language_info": {
   "codemirror_mode": {
    "name": "ipython",
    "version": 3
   },
   "file_extension": ".py",
   "mimetype": "text/x-python",
   "name": "python",
   "nbconvert_exporter": "python",
   "pygments_lexer": "ipython3",
   "version": "3.8.8"
  },
  "toc": {
   "base_numbering": 1,
   "nav_menu": {},
   "number_sections": true,
   "sideBar": true,
   "skip_h1_title": false,
   "title_cell": "Table of Contents",
   "title_sidebar": "Contents",
   "toc_cell": false,
   "toc_position": {},
   "toc_section_display": true,
   "toc_window_display": false
  }
 },
 "nbformat": 4,
 "nbformat_minor": 5
}
